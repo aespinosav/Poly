{
 "metadata": {
  "name": "Lyapunov Exponents"
 },
 "nbformat": 3,
 "nbformat_minor": 0,
 "worksheets": [
  {
   "cells": [
    {
     "cell_type": "code",
     "collapsed": false,
     "input": [
      "%pylab inline"
     ],
     "language": "python",
     "metadata": {},
     "outputs": [
      {
       "output_type": "stream",
       "stream": "stdout",
       "text": [
        "\n",
        "Welcome to pylab, a matplotlib-based Python environment [backend: module://IPython.zmq.pylab.backend_inline].\n",
        "For more information, type 'help(pylab)'.\n"
       ]
      }
     ],
     "prompt_number": 1
    },
    {
     "cell_type": "code",
     "collapsed": false,
     "input": [
      "from IPython.core.display import Image\n",
      "from IPython.display import Math"
     ],
     "language": "python",
     "metadata": {},
     "outputs": [],
     "prompt_number": 9
    },
    {
     "cell_type": "code",
     "collapsed": false,
     "input": [
      "from pylab import *\n",
      "from numpy import *\n",
      "from poly import *"
     ],
     "language": "python",
     "metadata": {},
     "outputs": [],
     "prompt_number": 13
    },
    {
     "cell_type": "heading",
     "level": 1,
     "metadata": {},
     "source": [
      "Calculating Lyapunov exponents in polygonal non-elastic billiards"
     ]
    },
    {
     "cell_type": "markdown",
     "metadata": {},
     "source": [
      "In this *notebook* we will show how Lyapunov exponets can be calculated for inelastic billiards with flat boundaries. It will be shown for billiard inside an equilateral triangle but the method itself is general and can be applied to any billiard table with flat boundaries.\n",
      "\n",
      "The phase space for this system is 4-dimensional. Vectors in phase space will be reffered to as $\\Gamma$. Tangent vectors will be labeled as $\\delta\\Gamma$."
     ]
    },
    {
     "cell_type": "heading",
     "level": 2,
     "metadata": {},
     "source": [
      "The non-elastic collision rule"
     ]
    },
    {
     "cell_type": "markdown",
     "metadata": {},
     "source": [
      "To make the collisions non-elastic, we introduce a collision rule that reduces the outgoing angle, $\\varphi$,  after the colisions by a factor $\\Lambda$. \n",
      "\n",
      "That is, $ \\phi = \\Lambda \\theta. $, where $\\theta$ is the incoming angle.\n",
      "\n",
      " $0 \\le\\Lambda \\le 1$\n"
     ]
    },
    {
     "cell_type": "code",
     "collapsed": false,
     "input": [
      "Image('regla_sand.png')"
     ],
     "language": "python",
     "metadata": {},
     "outputs": [
      {
       "output_type": "pyout",
       "png": "regla_sand.png",
       "prompt_number": 15,
       "text": [
        "<IPython.core.display.Image at 0xae1c74c>"
       ]
      }
     ],
     "prompt_number": 15
    },
    {
     "cell_type": "markdown",
     "metadata": {},
     "source": [
      "As an example of the collision rule we plot the first 5 collisons whith $\\Lambda = 0.2$"
     ]
    },
    {
     "cell_type": "code",
     "collapsed": false,
     "input": [
      "p = Poligono([0,0], 3, 1, regular =  True )\n",
      "\n",
      "orb = Orbita(p)\n",
      "orb.flujo(5, 'd', 0.2, calcular_lyapunov=False)\n",
      "\n",
      "p.draw()\n",
      "orb.draw_trayectoria()"
     ],
     "language": "python",
     "metadata": {},
     "outputs": [
      {
       "output_type": "display_data",
       "png": "[encoded data removed]"
      }
     ],
     "prompt_number": 10
    },
    {
     "cell_type": "markdown",
     "metadata": {},
     "source": [
      "When the collisions are elastic the momentum of the particle is reflected at the boundary:\n",
      "\n",
      "\n",
      "$\\mathbf{p}^{\\prime} = \\mathbf{p} - 2(\\mathbf{p}\\cdot\\mathbf{\\hat{n}})\\mathbf{\\hat{n}}$,\n",
      "\n",
      "where $\\mathbf{\\hat{n}}$ is the unit inwards normal to the boundary at the point of collision.\n",
      "\n",
      "\n",
      "The transformation due to the inelastic collision can be thought of as the elastic reflection composed with a rotation:\n",
      "\n",
      "$\\mathbf{p}^{\\prime} = \\mathcal{F}(\\mathbf{p}) = (\\mathcal{R}(\\mathbf{p}) \\circ \\mathcal{F}_{el})(p)$\n",
      "\n",
      "However, since the rotation itself depends on the momentum, this transformation is **not** linear. It has to be expressed as a series of transformations."
     ]
    },
    {
     "cell_type": "code",
     "collapsed": false,
     "input": [
      "Math(r\"\\mathbf{p} \\overset{f_1}{\\mapsto} \\mathbf{p}_{\\mathrm{el}} \\overset{f_2}{\\mapsto} (\\mathbf{p}_{\\mathrm{el}},\\mathbf{p}_{\\mathrm{el}}) \\overset{f_3}{\\mapsto} (\\theta_{\\mathrm{el}},\\mathbf{p}_{el} ) \\overset{f_4}{\\mapsto} (\\theta_{\\mathrm{rot}}, \\mathbf{p}_{\\mathrm{el}}) \\overset{f_5}{\\mapsto} (\\mathcal{R}_{\\theta_{\\mathrm{rot}}}, \\mathbf{p}_{\\mathrm{el}} ) \\overset{f_6}{\\mapsto} \\mathbf{p^{\\prime}}\")"
     ],
     "language": "python",
     "metadata": {},
     "outputs": [
      {
       "latex": [
        "$$\\mathbf{p} \\overset{f_1}{\\mapsto} \\mathbf{p}_{\\mathrm{el}} \\overset{f_2}{\\mapsto} (\\mathbf{p}_{\\mathrm{el}},\\mathbf{p}_{\\mathrm{el}}) \\overset{f_3}{\\mapsto} (\\theta_{\\mathrm{el}},\\mathbf{p}_{el} ) \\overset{f_4}{\\mapsto} (\\theta_{\\mathrm{rot}}, \\mathbf{p}_{\\mathrm{el}}) \\overset{f_5}{\\mapsto} (\\mathcal{R}_{\\theta_{\\mathrm{rot}}}, \\mathbf{p}_{\\mathrm{el}} ) \\overset{f_6}{\\mapsto} \\mathbf{p^{\\prime}}$$"
       ],
       "output_type": "pyout",
       "prompt_number": 14,
       "text": [
        "<IPython.core.display.Math at 0xae1c6cc>"
       ]
      }
     ],
     "prompt_number": 14
    },
    {
     "cell_type": "markdown",
     "metadata": {},
     "source": [
      "If we graph the arc length of the boundary where each collision happens against the outgoing angle $\\varphi$ we obtain the collision space in which a strange attractor appears and changes as we vary the non-elastic parameter $\\Lambda$: "
     ]
    },
    {
     "cell_type": "code",
     "collapsed": false,
     "input": [
      "Image('graf_lambda_orbita_alfa_10.png')"
     ],
     "language": "python",
     "metadata": {},
     "outputs": [
      {
       "output_type": "pyout",
       "png": "graf_lambda_orbita_alfa_10.png",
       "prompt_number": 12,
       "text": [
        "<IPython.core.display.Image at 0xae1c54c>"
       ]
      }
     ],
     "prompt_number": 12
    },
    {
     "cell_type": "heading",
     "level": 2,
     "metadata": {},
     "source": [
      "Lyapunov Exponents"
     ]
    },
    {
     "cell_type": "markdown",
     "metadata": {},
     "source": [
      "To calcualate the Lyapunov exponents of the billiard dynamics we need to know how the tangent vectors $\\delta\\Gamma$ evolve.\n",
      "\n",
      "While the particle is moving inside the region the dynamics are linear and the evolution of the $\\delta\\Gamma$ vectors is simple.\n",
      "The difficulty arises when the particle collides with the boundar\n",
      "\n",
      "Following the procedure by *Dellago et al.* The transformation of the tangent vectors at the collisions is given by:\n",
      "\n",
      "\n",
      "\\begin{equation}\n",
      "\\delta\\mathbf{\\Gamma^{\\prime}} =   D\\mathsf{M}(\\mathbf{\\Gamma}) \\cdot \\delta\\mathbf{\\Gamma} + \\left[   D\\mathsf{M}(\\mathbf{\\Gamma})\\cdot \n",
      "\\mathbf{F(\\mathbf{\\Gamma})}  - \\mathbf{F}(\\mathsf{M}(\\mathbf{\\Gamma}))  \\right] \\delta\\tau_c\n",
      "\\end{equation}\n",
      "\n",
      "Where \\mathbf{F} are the equations of motion within the region, \\mathsf{M} is the map that corresponds to the collisions and $\\delta\\tau_c$ is called the time delay.\n",
      "The time delay corresponds to the time interval between the collision of the reference orbit and the satellite orbit.\n",
      "\n",
      "Since the  collision only changes the momentum of the particle and not its position, the important part of the derivative of the map, $D\\mathsf{M}$ is given by the derivative of the momentum transformation map, $\\mathcal{F}$.\n",
      "\n",
      "We can express $D\\mathsf{M}$ as,\n",
      "\n",
      "\\begin{equation}\n",
      "D\\mathsf{M}= \n",
      "\\begin{pmatrix}\n",
      "\\mathbf{1} \\\\\n",
      "D\\mathcal{F}(\\Gamma)\n",
      "\\end{pmatrix}\n",
      "\\end{equation}\n",
      "\n",
      "Numerically the Lyapunov exponents are aproximated by,\n",
      "\n",
      "\\begin{equation}\n",
      "\\lambda = \\dfrac{1}{t}\\sum_{i = 1}^{n} \\log \\Vert \\delta\\Gamma(\\mathfrak{t}_i) \\Vert\n",
      "\\end{equation}"
     ]
    },
    {
     "cell_type": "code",
     "collapsed": false,
     "input": [],
     "language": "python",
     "metadata": {},
     "outputs": [],
     "prompt_number": 15
    },
    {
     "cell_type": "code",
     "collapsed": false,
     "input": [],
     "language": "python",
     "metadata": {},
     "outputs": [],
     "prompt_number": 15
    },
    {
     "cell_type": "heading",
     "level": 2,
     "metadata": {},
     "source": [
      "Procedure"
     ]
    },
    {
     "cell_type": "markdown",
     "metadata": {},
     "source": [
      "We initialise 4 orthonormal 4-dimenisonal vectors, after every collision we store their \n",
      "magnitude in a list and use the Gram-Schmidt method to re-orthonormalize them.\n",
      "\n",
      "\n",
      "We store the magnitudes of the vectors after each collision in a list and after 3000000 collisions\n",
      "we approximate the Lyapunov exponents."
     ]
    },
    {
     "cell_type": "code",
     "collapsed": false,
     "input": [
      "def transformacion_colision(self, mesa, frontera, time, dG, normas, p_antes, p_despues, theta, alfa):\n",
      "    \"\"\"\n",
      "    Trasforma los vectores tangentes de acuerdo a la regla de colision de David y agrega a la lista que se le pase como\n",
      "    normas la norma despu\u00e9s del proceso Gram-Shmidt. t = tiempo de vuelo libre\n",
      "    \"\"\"\n",
      "\n",
      "    t = mesa.tangentes[frontera]\n",
      "    n = mesa.normales[frontera]\n",
      "\n",
      "\n",
      "    p = p_antes\n",
      "\n",
      "    y1 = p - 2.0*dot(p,n)*n\n",
      "    y2 = array([y1[0], y1[1], y1[0], y1[1]])\n",
      "    y3 = array([arctan(dot(y2[:2],t)/dot(y2[:2],n)), y2[0], y2[1]])\n",
      "    y4 = array([(1- alfa)*y3[0], y3[1], y3[2] ])\n",
      "    y5 = array([ cos(y4[0]), -sin(y4[0]), sin(y4[0]), cos(y4[0]), y4[1], y4[2]  ])\n",
      "    y6 = dot(y5[:4].reshape(2,2) , y5[4:])\n",
      "\n",
      "\n",
      "    \n",
      "    m = dot(self.Df6(y5), self.Df5(y4))\n",
      "    m = dot(m, self.Df4(alfa, y3))\n",
      "    m = dot(m, self.Df3(y2))\n",
      "    m = dot(m, self.Df2(y1))\n",
      "    m = dot(m, self.Df1(n,p))\n",
      "\n",
      "\n",
      "    delta_p = p_despues - p_antes\n",
      "    \n",
      "    dG_nuevo = []\n",
      "\n",
      "    for dg in dG:\n",
      "\n",
      "        dq1, dq2, dp1, dp2 = dg\n",
      "        dq = array([dq1, dq2])\n",
      "        dp = array([dp1, dp2])\n",
      "\n",
      "        dot_nq = dot(n, dq)\n",
      "\n",
      "        dq1_nuevo , dq2_nuevo = dq +  delta_p*dot_nq/dot(p_antes, n) # 2.0*dot_nq*n\n",
      "\n",
      "        \n",
      "\n",
      "        dp_nuevo = dot(m, dp)\n",
      "\n",
      "        dp1_nuevo, dp2_nuevo = dp_nuevo\n",
      "\n",
      "        dg_nuevo = array([dq1_nuevo, dq2_nuevo, dp1_nuevo, dp2_nuevo])\n",
      "\n",
      "        dG_nuevo.append(dg_nuevo)\n",
      "\n",
      "    dG = dG_nuevo\n",
      "\n",
      "    return array(dG)"
     ],
     "language": "python",
     "metadata": {},
     "outputs": [],
     "prompt_number": 16
    },
    {
     "cell_type": "markdown",
     "metadata": {},
     "source": [
      "The results shown for 3000000 collisions for each value of $\\Lambda$ (from 0 to 1 in steps of 0.01) are shown below .\n",
      "The dotted line represents the Lyapunov exponents when the dynamics are considered discrete whilst the solid line when they billiards are considered in continupus time."
     ]
    },
    {
     "cell_type": "code",
     "collapsed": false,
     "input": [
      "Image('exponentes_lyapunov_disc_y_flow.png')"
     ],
     "language": "python",
     "metadata": {},
     "outputs": [
      {
       "output_type": "pyout",
       "png": "exponentes_lyapunov_disc_y_flow.png",
       "prompt_number": 17,
       "text": [
        "<IPython.core.display.Image at 0xadd2d6c>"
       ]
      }
     ],
     "prompt_number": 17
    },
    {
     "cell_type": "code",
     "collapsed": false,
     "input": [
      "Image('suma_exponentes_lyap.png')"
     ],
     "language": "python",
     "metadata": {},
     "outputs": [
      {
       "output_type": "pyout",
       "png": "suma_exponentes_lyap.png",
       "prompt_number": 18,
       "text": [
        "<IPython.core.display.Image at 0xae230ac>"
       ]
      }
     ],
     "prompt_number": 18
    },
    {
     "cell_type": "code",
     "collapsed": false,
     "input": [],
     "language": "python",
     "metadata": {},
     "outputs": []
    }
   ],
   "metadata": {}
  }
 ]
}